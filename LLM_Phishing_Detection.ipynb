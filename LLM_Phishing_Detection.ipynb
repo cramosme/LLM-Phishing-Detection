{
  "nbformat": 4,
  "nbformat_minor": 0,
  "metadata": {
    "colab": {
      "provenance": [],
      "authorship_tag": "ABX9TyNgbNwbycAch0SyfmD4WA2I",
      "include_colab_link": true
    },
    "kernelspec": {
      "name": "python3",
      "display_name": "Python 3"
    },
    "language_info": {
      "name": "python"
    }
  },
  "cells": [
    {
      "cell_type": "markdown",
      "metadata": {
        "id": "view-in-github",
        "colab_type": "text"
      },
      "source": [
        "<a href=\"https://colab.research.google.com/github/cramosme/LLM-Phishing-Detection/blob/main/LLM_Phishing_Detection.ipynb\" target=\"_parent\"><img src=\"https://colab.research.google.com/assets/colab-badge.svg\" alt=\"Open In Colab\"/></a>"
      ]
    },
    {
      "cell_type": "code",
      "execution_count": null,
      "metadata": {
        "id": "DDkJPfEp13Gi"
      },
      "outputs": [],
      "source": [
        "# Clone git repo, comment out after running once\n",
        "# !git clone https://github.com/cramosme/LLM-Phishing-Detection.git\n",
        "\n",
        "# %cd LLM-Phishing-Detection\n",
        "\n",
        "# !ls"
      ]
    },
    {
      "cell_type": "code",
      "source": [
        "import pandas as pd\n",
        "\n",
        "# Load the CSVs\n",
        "df_llm_phish = pd.read_csv(f\"/content/LLM-Phishing-Detection/data/llm-generated/phishing-fixed.csv\") # Have to use Fixed version and not original because original didnt quote text correctly so parsing was messed up\n",
        "print(f\"Loaded {len(df_llm_phish)} LLM Generated phishing emails\")\n",
        "display(df_llm_phish.info())\n",
        "\n",
        "print(\"\\n\")\n",
        "\n",
        "df_llm_legit = pd.read_csv(f\"/content/LLM-Phishing-Detection/data/llm-generated/legit-fixed.csv\") # Have to use Fixed version and not original because original didnt quote text correctly so parsing was messed up\n",
        "print(f\"Loaded {len(df_llm_legit)} LLM Generated legit emails\")\n",
        "display(df_llm_legit.info())\n",
        "\n",
        "print(\"\\n\")\n",
        "\n",
        "df_human_phish = pd.read_csv(f\"/content/LLM-Phishing-Detection/data/human-generated/phishing.csv\") # Issue only occured with the LLM ones, human generated we can just use the original dataset's files\n",
        "print(f\"Loaded {len(df_human_phish)} Human Generated phishing emails\")\n",
        "display(df_human_phish.info())\n",
        "\n",
        "print(\"\\n\")\n",
        "\n",
        "df_human_legit = pd.read_csv(f\"/content/LLM-Phishing-Detection/data/human-generated/legit.csv\")\n",
        "print(f\"Loaded {len(df_human_legit)} Human Generated legit emails\")\n",
        "display(df_human_legit.info())"
      ],
      "metadata": {
        "colab": {
          "base_uri": "https://localhost:8080/",
          "height": 1000
        },
        "id": "91QvIEFPIS6s",
        "outputId": "92eec896-fed3-41eb-a39c-781ae3a822f4"
      },
      "execution_count": 2,
      "outputs": [
        {
          "output_type": "stream",
          "name": "stdout",
          "text": [
            "Loaded 1000 LLM Generated phishing emails\n",
            "<class 'pandas.core.frame.DataFrame'>\n",
            "RangeIndex: 1000 entries, 0 to 999\n",
            "Data columns (total 2 columns):\n",
            " #   Column  Non-Null Count  Dtype \n",
            "---  ------  --------------  ----- \n",
            " 0   text    1000 non-null   object\n",
            " 1   label   1000 non-null   int64 \n",
            "dtypes: int64(1), object(1)\n",
            "memory usage: 15.8+ KB\n"
          ]
        },
        {
          "output_type": "display_data",
          "data": {
            "text/plain": [
              "None"
            ]
          },
          "metadata": {}
        },
        {
          "output_type": "stream",
          "name": "stdout",
          "text": [
            "\n",
            "\n",
            "Loaded 1000 LLM Generated legit emails\n",
            "<class 'pandas.core.frame.DataFrame'>\n",
            "RangeIndex: 1000 entries, 0 to 999\n",
            "Data columns (total 2 columns):\n",
            " #   Column  Non-Null Count  Dtype \n",
            "---  ------  --------------  ----- \n",
            " 0   text    1000 non-null   object\n",
            " 1   label   1000 non-null   int64 \n",
            "dtypes: int64(1), object(1)\n",
            "memory usage: 15.8+ KB\n"
          ]
        },
        {
          "output_type": "display_data",
          "data": {
            "text/plain": [
              "None"
            ]
          },
          "metadata": {}
        },
        {
          "output_type": "stream",
          "name": "stdout",
          "text": [
            "\n",
            "\n",
            "Loaded 1000 Human Generated phishing emails\n",
            "<class 'pandas.core.frame.DataFrame'>\n",
            "RangeIndex: 1000 entries, 0 to 999\n",
            "Data columns (total 7 columns):\n",
            " #   Column    Non-Null Count  Dtype \n",
            "---  ------    --------------  ----- \n",
            " 0   sender    1000 non-null   object\n",
            " 1   receiver  978 non-null    object\n",
            " 2   date      1000 non-null   object\n",
            " 3   subject   998 non-null    object\n",
            " 4   body      1000 non-null   object\n",
            " 5   urls      1000 non-null   int64 \n",
            " 6   label     1000 non-null   int64 \n",
            "dtypes: int64(2), object(5)\n",
            "memory usage: 54.8+ KB\n"
          ]
        },
        {
          "output_type": "display_data",
          "data": {
            "text/plain": [
              "None"
            ]
          },
          "metadata": {}
        },
        {
          "output_type": "stream",
          "name": "stdout",
          "text": [
            "\n",
            "\n",
            "Loaded 1000 Human Generated legit emails\n",
            "<class 'pandas.core.frame.DataFrame'>\n",
            "RangeIndex: 1000 entries, 0 to 999\n",
            "Data columns (total 7 columns):\n",
            " #   Column    Non-Null Count  Dtype \n",
            "---  ------    --------------  ----- \n",
            " 0   sender    1000 non-null   object\n",
            " 1   receiver  984 non-null    object\n",
            " 2   date      1000 non-null   object\n",
            " 3   subject   1000 non-null   object\n",
            " 4   body      1000 non-null   object\n",
            " 5   urls      1000 non-null   object\n",
            " 6   label     1000 non-null   int64 \n",
            "dtypes: int64(1), object(6)\n",
            "memory usage: 54.8+ KB\n"
          ]
        },
        {
          "output_type": "display_data",
          "data": {
            "text/plain": [
              "None"
            ]
          },
          "metadata": {}
        }
      ]
    },
    {
      "cell_type": "markdown",
      "source": [
        "## Printing out the value count to check that all 1000 values are the same. Phish is 1. Legit is 0."
      ],
      "metadata": {
        "id": "9y1M8DKwbcPC"
      }
    },
    {
      "cell_type": "code",
      "source": [
        "df_llm_phish['label'].value_counts()"
      ],
      "metadata": {
        "id": "LmLb1rwCN9_-",
        "outputId": "2dedaaa8-f483-49d0-e366-1fc8711cdbc1",
        "colab": {
          "base_uri": "https://localhost:8080/",
          "height": 147
        }
      },
      "execution_count": 3,
      "outputs": [
        {
          "output_type": "execute_result",
          "data": {
            "text/plain": [
              "label\n",
              "1    1000\n",
              "Name: count, dtype: int64"
            ],
            "text/html": [
              "<div>\n",
              "<style scoped>\n",
              "    .dataframe tbody tr th:only-of-type {\n",
              "        vertical-align: middle;\n",
              "    }\n",
              "\n",
              "    .dataframe tbody tr th {\n",
              "        vertical-align: top;\n",
              "    }\n",
              "\n",
              "    .dataframe thead th {\n",
              "        text-align: right;\n",
              "    }\n",
              "</style>\n",
              "<table border=\"1\" class=\"dataframe\">\n",
              "  <thead>\n",
              "    <tr style=\"text-align: right;\">\n",
              "      <th></th>\n",
              "      <th>count</th>\n",
              "    </tr>\n",
              "    <tr>\n",
              "      <th>label</th>\n",
              "      <th></th>\n",
              "    </tr>\n",
              "  </thead>\n",
              "  <tbody>\n",
              "    <tr>\n",
              "      <th>1</th>\n",
              "      <td>1000</td>\n",
              "    </tr>\n",
              "  </tbody>\n",
              "</table>\n",
              "</div><br><label><b>dtype:</b> int64</label>"
            ]
          },
          "metadata": {},
          "execution_count": 3
        }
      ]
    },
    {
      "cell_type": "code",
      "source": [
        "df_llm_legit['label'].value_counts()"
      ],
      "metadata": {
        "id": "8Qezo0ENUVGl",
        "outputId": "5d1a7b13-4079-4627-be24-9c2375c6e873",
        "colab": {
          "base_uri": "https://localhost:8080/",
          "height": 147
        }
      },
      "execution_count": 4,
      "outputs": [
        {
          "output_type": "execute_result",
          "data": {
            "text/plain": [
              "label\n",
              "0    1000\n",
              "Name: count, dtype: int64"
            ],
            "text/html": [
              "<div>\n",
              "<style scoped>\n",
              "    .dataframe tbody tr th:only-of-type {\n",
              "        vertical-align: middle;\n",
              "    }\n",
              "\n",
              "    .dataframe tbody tr th {\n",
              "        vertical-align: top;\n",
              "    }\n",
              "\n",
              "    .dataframe thead th {\n",
              "        text-align: right;\n",
              "    }\n",
              "</style>\n",
              "<table border=\"1\" class=\"dataframe\">\n",
              "  <thead>\n",
              "    <tr style=\"text-align: right;\">\n",
              "      <th></th>\n",
              "      <th>count</th>\n",
              "    </tr>\n",
              "    <tr>\n",
              "      <th>label</th>\n",
              "      <th></th>\n",
              "    </tr>\n",
              "  </thead>\n",
              "  <tbody>\n",
              "    <tr>\n",
              "      <th>0</th>\n",
              "      <td>1000</td>\n",
              "    </tr>\n",
              "  </tbody>\n",
              "</table>\n",
              "</div><br><label><b>dtype:</b> int64</label>"
            ]
          },
          "metadata": {},
          "execution_count": 4
        }
      ]
    },
    {
      "cell_type": "code",
      "source": [
        "df_human_phish['label'].value_counts()"
      ],
      "metadata": {
        "id": "Fzs1cnvcUYKR",
        "outputId": "524a1a8e-15aa-4cd9-ee0d-18ad596e74b3",
        "colab": {
          "base_uri": "https://localhost:8080/",
          "height": 147
        }
      },
      "execution_count": 5,
      "outputs": [
        {
          "output_type": "execute_result",
          "data": {
            "text/plain": [
              "label\n",
              "1    1000\n",
              "Name: count, dtype: int64"
            ],
            "text/html": [
              "<div>\n",
              "<style scoped>\n",
              "    .dataframe tbody tr th:only-of-type {\n",
              "        vertical-align: middle;\n",
              "    }\n",
              "\n",
              "    .dataframe tbody tr th {\n",
              "        vertical-align: top;\n",
              "    }\n",
              "\n",
              "    .dataframe thead th {\n",
              "        text-align: right;\n",
              "    }\n",
              "</style>\n",
              "<table border=\"1\" class=\"dataframe\">\n",
              "  <thead>\n",
              "    <tr style=\"text-align: right;\">\n",
              "      <th></th>\n",
              "      <th>count</th>\n",
              "    </tr>\n",
              "    <tr>\n",
              "      <th>label</th>\n",
              "      <th></th>\n",
              "    </tr>\n",
              "  </thead>\n",
              "  <tbody>\n",
              "    <tr>\n",
              "      <th>1</th>\n",
              "      <td>1000</td>\n",
              "    </tr>\n",
              "  </tbody>\n",
              "</table>\n",
              "</div><br><label><b>dtype:</b> int64</label>"
            ]
          },
          "metadata": {},
          "execution_count": 5
        }
      ]
    },
    {
      "cell_type": "code",
      "source": [
        "df_human_legit['label'].value_counts()"
      ],
      "metadata": {
        "id": "Dp-rYeb_UZ2u",
        "outputId": "777860ce-425b-4617-a48e-0f968c37af66",
        "colab": {
          "base_uri": "https://localhost:8080/",
          "height": 147
        }
      },
      "execution_count": 6,
      "outputs": [
        {
          "output_type": "execute_result",
          "data": {
            "text/plain": [
              "label\n",
              "0    1000\n",
              "Name: count, dtype: int64"
            ],
            "text/html": [
              "<div>\n",
              "<style scoped>\n",
              "    .dataframe tbody tr th:only-of-type {\n",
              "        vertical-align: middle;\n",
              "    }\n",
              "\n",
              "    .dataframe tbody tr th {\n",
              "        vertical-align: top;\n",
              "    }\n",
              "\n",
              "    .dataframe thead th {\n",
              "        text-align: right;\n",
              "    }\n",
              "</style>\n",
              "<table border=\"1\" class=\"dataframe\">\n",
              "  <thead>\n",
              "    <tr style=\"text-align: right;\">\n",
              "      <th></th>\n",
              "      <th>count</th>\n",
              "    </tr>\n",
              "    <tr>\n",
              "      <th>label</th>\n",
              "      <th></th>\n",
              "    </tr>\n",
              "  </thead>\n",
              "  <tbody>\n",
              "    <tr>\n",
              "      <th>0</th>\n",
              "      <td>1000</td>\n",
              "    </tr>\n",
              "  </tbody>\n",
              "</table>\n",
              "</div><br><label><b>dtype:</b> int64</label>"
            ]
          },
          "metadata": {},
          "execution_count": 6
        }
      ]
    },
    {
      "cell_type": "code",
      "source": [
        "# Extract only the body text from the Human CSVs for consistency. LLM CSVs only contain a text box, with no metadata like the Human ones.\n",
        "# If we use the metadata in training the model might spot patterns and classify anything with metadata as Human.\n",
        "# To avoid that we will only be looking at the body of the email.\n",
        "\n",
        "# Add text column to human dataframes, just to keep columns consistent with LLM\n",
        "df_human_phish['text'] = df_human_phish['body']\n",
        "df_human_legit['text'] = df_human_legit['body']\n",
        "\n",
        "# Make sure both columns got added\n",
        "df_human_legit.info()\n",
        "df_human_phish.info()"
      ],
      "metadata": {
        "colab": {
          "base_uri": "https://localhost:8080/"
        },
        "id": "QBPnm-ve1j_a",
        "outputId": "24322188-752e-46ae-ce46-392559f3819d"
      },
      "execution_count": 8,
      "outputs": [
        {
          "output_type": "stream",
          "name": "stdout",
          "text": [
            "<class 'pandas.core.frame.DataFrame'>\n",
            "RangeIndex: 1000 entries, 0 to 999\n",
            "Data columns (total 8 columns):\n",
            " #   Column    Non-Null Count  Dtype \n",
            "---  ------    --------------  ----- \n",
            " 0   sender    1000 non-null   object\n",
            " 1   receiver  984 non-null    object\n",
            " 2   date      1000 non-null   object\n",
            " 3   subject   1000 non-null   object\n",
            " 4   body      1000 non-null   object\n",
            " 5   urls      1000 non-null   object\n",
            " 6   label     1000 non-null   int64 \n",
            " 7   text      1000 non-null   object\n",
            "dtypes: int64(1), object(7)\n",
            "memory usage: 62.6+ KB\n",
            "<class 'pandas.core.frame.DataFrame'>\n",
            "RangeIndex: 1000 entries, 0 to 999\n",
            "Data columns (total 8 columns):\n",
            " #   Column    Non-Null Count  Dtype \n",
            "---  ------    --------------  ----- \n",
            " 0   sender    1000 non-null   object\n",
            " 1   receiver  978 non-null    object\n",
            " 2   date      1000 non-null   object\n",
            " 3   subject   998 non-null    object\n",
            " 4   body      1000 non-null   object\n",
            " 5   urls      1000 non-null   int64 \n",
            " 6   label     1000 non-null   int64 \n",
            " 7   text      1000 non-null   object\n",
            "dtypes: int64(2), object(6)\n",
            "memory usage: 62.6+ KB\n"
          ]
        }
      ]
    },
    {
      "cell_type": "code",
      "source": [
        "# Will be conducting two training experiments. Training the ML model on only the phishing emails and training on all emails.\n",
        "# We want to see if the model's performance is impacted.\n",
        "\n",
        "# Add source labels to each dataframe\n",
        "df_human_phish['source'] = 0    # Human\n",
        "df_llm_phish['source'] = 1      # LLM\n",
        "df_human_legit['source'] = 0    # Human\n",
        "df_llm_legit['source'] = 1      # LLM\n",
        "\n",
        "# Create phishing-only dataset\n",
        "df_phishing_only = pd.concat([\n",
        "    df_llm_phish[['text','source']], df_human_phish[['text','source']]\n",
        "], ignore_index=True)\n",
        "\n",
        "# Create all-emails dataset\n",
        "df_all_emails = pd.concat([\n",
        "    df_llm_phish[['text','source']], df_human_phish[['text','source']],\n",
        "    df_llm_legit[['text','source']], df_human_legit[['text','source']]\n",
        "], ignore_index=True)\n",
        "\n",
        "# Verify both datasets\n",
        "print(\"=== Phishing-Only Dataset ===\")\n",
        "print(f\"Total samples: {len(df_phishing_only)}\")\n",
        "print(df_phishing_only['source'].value_counts())\n",
        "\n",
        "print(\"\\n=== All-Emails Dataset ===\")\n",
        "print(f\"Total samples: {len(df_all_emails)}\")\n",
        "print(df_all_emails['source'].value_counts())\n"
      ],
      "metadata": {
        "colab": {
          "base_uri": "https://localhost:8080/"
        },
        "id": "xQ8DoXEo52jx",
        "outputId": "578b9323-dabe-4f6d-ef3f-80207f9c2ca1"
      },
      "execution_count": 9,
      "outputs": [
        {
          "output_type": "stream",
          "name": "stdout",
          "text": [
            "=== Phishing-Only Dataset ===\n",
            "Total samples: 2000\n",
            "source\n",
            "1    1000\n",
            "0    1000\n",
            "Name: count, dtype: int64\n",
            "\n",
            "=== All-Emails Dataset ===\n",
            "Total samples: 4000\n",
            "source\n",
            "1    2000\n",
            "0    2000\n",
            "Name: count, dtype: int64\n"
          ]
        }
      ]
    },
    {
      "cell_type": "code",
      "source": [
        "from sklearn.feature_extraction.text import TfidfVectorizer\n",
        "from sklearn.model_selection import train_test_split\n",
        "from sklearn.ensemble import RandomForestClassifier\n",
        "from sklearn.linear_model import LogisticRegression\n",
        "from sklearn.metrics import confusion_matrix, f1_score, classification_report, recall_score, precision_score, accuracy_score\n",
        "import seaborn as sns\n",
        "import matplotlib.pyplot as plt\n",
        "import warnings\n",
        "warnings.filterwarnings('ignore')\n",
        "\n",
        "# Random State\n",
        "rState = 42\n",
        "test_size = 0.3 # 70% train, 30% test\n",
        "\n",
        "# Using the 3000 most important words. Stop words english removes common words (\"the\", \"and\"...)\n",
        "vectorizer = TfidfVectorizer(max_features=3000, stop_words='english')"
      ],
      "metadata": {
        "id": "r937zfjj7vZG"
      },
      "execution_count": 18,
      "outputs": []
    },
    {
      "cell_type": "code",
      "source": [
        "# Phishing Only (Human vs LLM Phishing emails)\n",
        "\n",
        "# Separating features and labels\n",
        "X_phish = df_phishing_only['text']\n",
        "y_phish = df_phishing_only['source']\n",
        "\n",
        "# Converting text to numbers using TFIDF\n",
        "X_phish_conversion = vectorizer.fit_transform(X_phish)\n",
        "print(f\"Created {X_phish_conversion.shape[1]} features from the text (top {X_phish_conversion.shape[1]} words)\")\n",
        "\n",
        "X_train_phish, X_test_phish, y_train_phish, y_test_phish = train_test_split(X_phish_conversion, y_phish, test_size=test_size, random_state=rState, stratify=y_phish) # Stratify ensures that its even 700/700 split\n",
        "\n",
        "print(f\"\\nTraining samples: {X_train_phish.shape[0]}\")\n",
        "print(f\"Testing samples: {X_test_phish.shape[0]}\")\n",
        "print(f\"\\nClass distribution in training:\")\n",
        "print(y_train_phish.value_counts())"
      ],
      "metadata": {
        "colab": {
          "base_uri": "https://localhost:8080/"
        },
        "id": "qdRzNygz9fLH",
        "outputId": "719f418b-6b6a-4eb4-b6cf-bcf2ceab47b8"
      },
      "execution_count": 15,
      "outputs": [
        {
          "output_type": "stream",
          "name": "stdout",
          "text": [
            "Created 3000 features from the text (top 3000 words)\n",
            "\n",
            "Training samples: 1400\n",
            "Testing samples: 600\n",
            "\n",
            "Class distribution in training:\n",
            "source\n",
            "0    700\n",
            "1    700\n",
            "Name: count, dtype: int64\n"
          ]
        }
      ]
    },
    {
      "cell_type": "markdown",
      "source": [
        "# Logistic Regression"
      ],
      "metadata": {
        "id": "Bs49GSoaFfeK"
      }
    },
    {
      "cell_type": "code",
      "source": [
        "# Train logistic regression model\n",
        "\n",
        "# Initialize model\n",
        "log_reg = LogisticRegression(max_iter=1000, random_state=rState, solver='liblinear')\n",
        "\n",
        "# Fit the model\n",
        "log_reg.fit(X_train_phish, y_train_phish)\n",
        "\n",
        "y_pred_phish = log_reg.predict(X_test_phish)\n",
        "y_prob_phish = log_reg.predict_proba(X_test_phish)[:, 1] # Probability of LLM (class 1)\n"
      ],
      "metadata": {
        "id": "rWFmE1KIAqq_"
      },
      "execution_count": 16,
      "outputs": []
    },
    {
      "cell_type": "code",
      "source": [
        "# Calculate metrics\n",
        "accuracy = accuracy_score(y_test_phish, y_pred_phish)\n",
        "precision = precision_score(y_test_phish, y_pred_phish)\n",
        "recall = recall_score(y_test_phish, y_pred_phish)\n",
        "f1 = f1_score(y_test_phish, y_pred_phish)\n",
        "\n",
        "# Print metrics\n",
        "print(f\"\\nAccuracy: {accuracy:.4f}\")\n",
        "print(f\"Precision: {precision:.4f}\")\n",
        "print(f\"Recall: {recall:.4f}\")\n",
        "print(f\"F1 Score: {f1:.4f}\")\n",
        "\n",
        "# Confusion Matrix\n",
        "cm = confusion_matrix(y_test_phish, y_pred_phish, normalize=\"true\")\n",
        "labels = [\"Human\", \"LLM\"]\n",
        "\n",
        "plt.figure(figsize=(8, 6))\n",
        "sns.heatmap(cm, annot=True, fmt='.2%', cmap='Blues', cbar=False, xticklabels=labels, yticklabels=labels)\n",
        "plt.xlabel('Predicted Labels')\n",
        "plt.ylabel('True Labels')\n",
        "plt.title('Confusion Matrix - Phishing-Only (Human vs LLM)')\n",
        "plt.show()\n",
        "\n",
        "# Classification Report\n",
        "print(\"\\n\" + \"-\" * 60)\n",
        "print(' ' * 15 + \"Classification Report\")\n",
        "print(classification_report(y_test_phish, y_pred_phish, target_names=labels))"
      ],
      "metadata": {
        "colab": {
          "base_uri": "https://localhost:8080/",
          "height": 859
        },
        "id": "cOx37Y35Bonw",
        "outputId": "9574a8fe-37d9-42ab-d51a-68d5c7c984d0"
      },
      "execution_count": 33,
      "outputs": [
        {
          "output_type": "stream",
          "name": "stdout",
          "text": [
            "\n",
            "Accuracy: 0.9967\n",
            "Precision: 1.0000\n",
            "Recall: 0.9933\n",
            "F1 Score: 0.9967\n"
          ]
        },
        {
          "output_type": "display_data",
          "data": {
            "text/plain": [
              "<Figure size 800x600 with 1 Axes>"
            ],
            "image/png": "[encoded data removed]"
          },
          "metadata": {}
        },
        {
          "output_type": "stream",
          "name": "stdout",
          "text": [
            "\n",
            "------------------------------------------------------------\n",
            "               Classification Report\n",
            "              precision    recall  f1-score   support\n",
            "\n",
            "       Human       0.99      1.00      1.00       300\n",
            "         LLM       1.00      0.99      1.00       300\n",
            "\n",
            "    accuracy                           1.00       600\n",
            "   macro avg       1.00      1.00      1.00       600\n",
            "weighted avg       1.00      1.00      1.00       600\n",
            "\n"
          ]
        }
      ]
    },
    {
      "cell_type": "code",
      "source": [
        "# Create a dataframe with test results\n",
        "test_results = pd.DataFrame({\n",
        "    'text': df_phishing_only.loc[y_test_phish.index, 'text'], # the email text\n",
        "    'true_label': y_test_phish.values, # What the actual label is\n",
        "    'predicted_label': y_pred_phish, # What the model predicted\n",
        "    'probability_LLM': y_prob_phish # How confident the model was\n",
        "})\n",
        "\n",
        "# Find misclassified emails, filters to only the rows where true label doesnt match predicted\n",
        "misclassified = test_results[test_results['true_label'] != test_results['predicted_label']]\n",
        "\n",
        "print(f\"\\nTotal misclassified: {len(misclassified)}\")\n",
        "\n",
        "# Show each misclassified email\n",
        "for index, row in misclassified.iterrows():\n",
        "    true_class = \"LLM\" if row['true_label'] == 1 else \"Human\"\n",
        "    pred_class = \"LLM\" if row['predicted_label'] == 1 else \"Human\"\n",
        "\n",
        "    print(f\"\\nMisclassified Email #{index}\")\n",
        "    print(f\"True Label: {true_class}\")\n",
        "    print(f\"Predicted: {pred_class}\")\n",
        "    print(f\"Confidence (LLM probability): {row['probability_LLM']:.4f}\")\n",
        "    print(f\"\\nEmail Text (first 500 characters):\")\n",
        "    print(\"-\" * 60)\n",
        "    print(row['text'][:500])"
      ],
      "metadata": {
        "colab": {
          "base_uri": "https://localhost:8080/"
        },
        "id": "zEMl5u3rBpmu",
        "outputId": "3c1c7864-292f-4231-aace-65d5de630282"
      },
      "execution_count": 27,
      "outputs": [
        {
          "output_type": "stream",
          "name": "stdout",
          "text": [
            "\n",
            "Total misclassified: 2\n",
            "\n",
            "Misclassified Email #645\n",
            "True Label: LLM\n",
            "Predicted: Human\n",
            "Confidence (LLM probability): 0.4815\n",
            "\n",
            "Email Text (first 500 characters):\n",
            "------------------------------------------------------------\n",
            "Hey Madison! I found a book that I think you'll absolutely love. It's been getting rave reviews. Click here to discover your new favorite book: https://www.apple.com/it/. Happy reading!\n",
            "\n",
            "Misclassified Email #804\n",
            "True Label: LLM\n",
            "Predicted: Human\n",
            "Confidence (LLM probability): 0.4686\n",
            "\n",
            "Email Text (first 500 characters):\n",
            "------------------------------------------------------------\n",
            "We're inviting you to become a secret shopper and earn extra cash. Visit our website and sign up to start receiving assignments. Your attention to detail and honest feedback will be greatly appreciated!\n"
          ]
        }
      ]
    },
    {
      "cell_type": "markdown",
      "source": [
        "# Random Forest"
      ],
      "metadata": {
        "id": "RAO7nQ1NFbEt"
      }
    },
    {
      "cell_type": "code",
      "source": [
        "# Initialize the random forest\n",
        "rf = RandomForestClassifier(n_estimators=100, random_state=rState, n_jobs=1)\n",
        "\n",
        "# Fit the model\n",
        "rf.fit(X_train_phish, y_train_phish)\n",
        "\n",
        "# Make pred\n",
        "rf_y_pred = rf.predict(X_test_phish)\n",
        "rf_y_prob = rf.predict_proba(X_test_phish)[:, 1]"
      ],
      "metadata": {
        "id": "lBCjh-GlFjQS"
      },
      "execution_count": 34,
      "outputs": []
    },
    {
      "cell_type": "code",
      "source": [
        "# Calculate metrics\n",
        "accuracy_rf = accuracy_score(y_test_phish, rf_y_pred)\n",
        "precision_rf = precision_score(y_test_phish, rf_y_pred)\n",
        "recall_rf = recall_score(y_test_phish, rf_y_pred)\n",
        "f1_rf = f1_score(y_test_phish, rf_y_pred)\n",
        "\n",
        "# Print metrics\n",
        "print(f\"\\nAccuracy: {accuracy_rf:.4f}\")\n",
        "print(f\"Precision: {precision_rf:.4f}\")\n",
        "print(f\"Recall: {recall_rf:.4f}\")\n",
        "print(f\"F1 Score: {f1_rf:.4f}\")\n",
        "\n",
        "# Confusion Matrix\n",
        "cm_rf = confusion_matrix(y_test_phish, rf_y_pred, normalize=\"true\")\n",
        "\n",
        "plt.figure(figsize=(8, 6))\n",
        "sns.heatmap(cm_rf, annot=True, fmt='.2%', cmap='Greens', cbar=False, xticklabels=labels, yticklabels=labels)\n",
        "plt.xlabel('Predicted Labels')\n",
        "plt.ylabel('True Labels')\n",
        "plt.title('Confusion Matrix - Random Forest (Human vs LLM)')\n",
        "plt.show()\n",
        "\n",
        "# Classification Report\n",
        "print(\"\\n\" + \"-\" * 60)\n",
        "print(' ' * 15 + \"Classification Report\")\n",
        "print(classification_report(y_test_phish, rf_y_pred, target_names=labels))\n",
        "\n",
        "def winner(lr_score, rf_score):\n",
        "    if lr_score > rf_score:\n",
        "        return \"Logistic Regression\"\n",
        "    elif rf_score > lr_score:\n",
        "        return \"Random Forest\"\n",
        "\n",
        "# Compare with Logistic Regression\n",
        "print(\"   MODEL COMPARISON\")\n",
        "print(f\"{'Metric':<15} {'Winner'}\")\n",
        "print(\"-\" * 45)\n",
        "print(f\"{'Accuracy':<15} {winner(accuracy, accuracy_rf)}\")\n",
        "print(f\"{'Precision':<15} {winner(precision, precision_rf)}\")\n",
        "print(f\"{'Recall':<15} {winner(recall, recall_rf)}\")\n",
        "print(f\"{'F1 Score':<15} {winner(f1, f1_rf)}\")"
      ],
      "metadata": {
        "id": "KOYO8a-BHUme",
        "outputId": "bef60ad4-30bb-44e0-b492-6efd4bcfae52",
        "colab": {
          "base_uri": "https://localhost:8080/",
          "height": 980
        }
      },
      "execution_count": 51,
      "outputs": [
        {
          "output_type": "stream",
          "name": "stdout",
          "text": [
            "\n",
            "Accuracy: 0.9950\n",
            "Precision: 0.9934\n",
            "Recall: 0.9967\n",
            "F1 Score: 0.9950\n"
          ]
        },
        {
          "output_type": "display_data",
          "data": {
            "text/plain": [
              "<Figure size 800x600 with 1 Axes>"
            ],
            "image/png": "[encoded data removed]"
          },
          "metadata": {}
        },
        {
          "output_type": "stream",
          "name": "stdout",
          "text": [
            "\n",
            "------------------------------------------------------------\n",
            "               Classification Report\n",
            "              precision    recall  f1-score   support\n",
            "\n",
            "       Human       1.00      0.99      0.99       300\n",
            "         LLM       0.99      1.00      1.00       300\n",
            "\n",
            "    accuracy                           0.99       600\n",
            "   macro avg       1.00      0.99      0.99       600\n",
            "weighted avg       1.00      0.99      0.99       600\n",
            "\n",
            "   MODEL COMPARISON\n",
            "Metric          Winner\n",
            "---------------------------------------------\n",
            "Accuracy        Logistic Regression\n",
            "Precision       Logistic Regression\n",
            "Recall          Random Forest\n",
            "F1 Score        Logistic Regression\n"
          ]
        }
      ]
    },
    {
      "cell_type": "markdown",
      "source": [
        "- Logistic Regression: Missed 2 LLM emails, misclassified as Human (2 false negatives, 0 false positives)\n",
        "- Random Forest: Missed 1 LLM email, but also misclassified 2 Human emails as LLM (1 false negative, 2 false positives)\n",
        "\n",
        "- Random Forest has better recall\n",
        "- Logistic Regression has better precision"
      ],
      "metadata": {
        "id": "LB7EmUPQK5Tv"
      }
    },
    {
      "cell_type": "markdown",
      "source": [
        "# Testing with all emails, legitimitate and phishing. 4000 samples"
      ],
      "metadata": {
        "id": "v_Sz94aLLaB3"
      }
    },
    {
      "cell_type": "code",
      "source": [
        "# All emails (Human vs LLM emails)\n",
        "\n",
        "# Separating features and labels\n",
        "X_all = df_all_emails['text']\n",
        "y_all = df_all_emails['source']\n",
        "\n",
        "# Converting text to numbers using TFIDF\n",
        "X_all_conversion = vectorizer.fit_transform(X_all)\n",
        "print(f\"Created {X_all_conversion.shape[1]} features from the text (top {X_all_conversion.shape[1]} words)\")\n",
        "\n",
        "X_train_all, X_test_all, y_train_all, y_test_all = train_test_split(X_all_conversion, y_all, test_size=test_size, random_state=rState, stratify=y_all) # Stratify ensures that its even 700/700 split\n",
        "\n",
        "print(f\"\\nTraining samples: {X_train_all.shape[0]}\")\n",
        "print(f\"Testing samples: {X_test_all.shape[0]}\")\n",
        "print(f\"\\nClass distribution in training:\")\n",
        "print(y_train_all.value_counts())"
      ],
      "metadata": {
        "id": "VqHOU0WMLMHw",
        "outputId": "af4f1c6d-a1d7-4a11-c6d4-4fd386e2a19c",
        "colab": {
          "base_uri": "https://localhost:8080/"
        }
      },
      "execution_count": 52,
      "outputs": [
        {
          "output_type": "stream",
          "name": "stdout",
          "text": [
            "Created 3000 features from the text (top 3000 words)\n",
            "\n",
            "Training samples: 2800\n",
            "Testing samples: 1200\n",
            "\n",
            "Class distribution in training:\n",
            "source\n",
            "0    1400\n",
            "1    1400\n",
            "Name: count, dtype: int64\n"
          ]
        }
      ]
    },
    {
      "cell_type": "markdown",
      "source": [
        "# Logistic Regression With All Emails"
      ],
      "metadata": {
        "id": "e-ix_VGsOcze"
      }
    },
    {
      "cell_type": "code",
      "source": [
        "# Train logistic regression model\n",
        "\n",
        "# Initialize model\n",
        "log_reg = LogisticRegression(max_iter=1000, random_state=rState, solver='liblinear')\n",
        "\n",
        "# Fit the model\n",
        "log_reg.fit(X_train_all, y_train_all)\n",
        "\n",
        "y_pred_all = log_reg.predict(X_test_all)\n",
        "y_prob_all = log_reg.predict_proba(X_test_all)[:, 1] # Probability of LLM (class 1)\n"
      ],
      "metadata": {
        "id": "35a3I7JFLwi-"
      },
      "execution_count": 59,
      "outputs": []
    },
    {
      "cell_type": "code",
      "source": [
        "# Calculate metrics\n",
        "accuracy = accuracy_score(y_test_all, y_pred_all)\n",
        "precision = precision_score(y_test_all, y_pred_all)\n",
        "recall = recall_score(y_test_all, y_pred_all)\n",
        "f1 = f1_score(y_test_all, y_pred_all)\n",
        "\n",
        "# Print metrics\n",
        "print(f\"\\nAccuracy: {accuracy:.4f}\")\n",
        "print(f\"Precision: {precision:.4f}\")\n",
        "print(f\"Recall: {recall:.4f}\")\n",
        "print(f\"F1 Score: {f1:.4f}\")\n",
        "\n",
        "# Confusion Matrix\n",
        "cm = confusion_matrix(y_test_all, y_pred_all, normalize=\"true\")\n",
        "labels = [\"Human\", \"LLM\"]\n",
        "\n",
        "plt.figure(figsize=(8, 6))\n",
        "sns.heatmap(cm, annot=True, fmt='.2%', cmap='Blues', cbar=False, xticklabels=labels, yticklabels=labels)\n",
        "plt.xlabel('Predicted Labels')\n",
        "plt.ylabel('True Labels')\n",
        "plt.title('Confusion Matrix - All Emails (Human vs LLM)')\n",
        "plt.show()\n",
        "\n",
        "# Classification Report\n",
        "print(\"\\n\" + \"-\" * 60)\n",
        "print(' ' * 15 + \"Classification Report\")\n",
        "print(classification_report(y_test_all, y_pred_all, target_names=labels))"
      ],
      "metadata": {
        "id": "ZtXdsHImL02l",
        "outputId": "8bad480b-ac60-4702-9825-6011ab415018",
        "colab": {
          "base_uri": "https://localhost:8080/",
          "height": 859
        }
      },
      "execution_count": 55,
      "outputs": [
        {
          "output_type": "stream",
          "name": "stdout",
          "text": [
            "\n",
            "Accuracy: 0.9992\n",
            "Precision: 1.0000\n",
            "Recall: 0.9983\n",
            "F1 Score: 0.9992\n"
          ]
        },
        {
          "output_type": "display_data",
          "data": {
            "text/plain": [
              "<Figure size 800x600 with 1 Axes>"
            ],
            "image/png": "[encoded data removed]"
          },
          "metadata": {}
        },
        {
          "output_type": "stream",
          "name": "stdout",
          "text": [
            "\n",
            "------------------------------------------------------------\n",
            "               Classification Report\n",
            "              precision    recall  f1-score   support\n",
            "\n",
            "       Human       1.00      1.00      1.00       600\n",
            "         LLM       1.00      1.00      1.00       600\n",
            "\n",
            "    accuracy                           1.00      1200\n",
            "   macro avg       1.00      1.00      1.00      1200\n",
            "weighted avg       1.00      1.00      1.00      1200\n",
            "\n"
          ]
        }
      ]
    },
    {
      "cell_type": "code",
      "source": [
        "# Create a dataframe with test results\n",
        "test_results = pd.DataFrame({\n",
        "    'text': df_all_emails.loc[y_test_all.index, 'text'], # the email text\n",
        "    'true_label': y_test_all.values, # What the actual label is\n",
        "    'predicted_label': y_pred_all, # What the model predicted\n",
        "    'probability_LLM': y_prob_all # How confident the model was\n",
        "})\n",
        "\n",
        "# Find misclassified emails, filters to only the rows where true label != predicted\n",
        "misclassified = test_results[test_results['true_label'] != test_results['predicted_label']]\n",
        "\n",
        "print(f\"\\nTotal misclassified: {len(misclassified)}\")\n",
        "\n",
        "# Show each misclassified email\n",
        "for index, row in misclassified.iterrows():\n",
        "    true_class = \"LLM\" if row['true_label'] == 1 else \"Human\"\n",
        "    pred_class = \"LLM\" if row['predicted_label'] == 1 else \"Human\"\n",
        "\n",
        "    print(f\"\\nMisclassified Email #{index}\")\n",
        "    print(f\"True Label: {true_class}\")\n",
        "    print(f\"Predicted: {pred_class}\")\n",
        "    print(f\"Confidence (LLM probability): {row['probability_LLM']:.4f}\")\n",
        "    print(f\"\\nEmail Text (first 500 characters):\")\n",
        "    print(\"-\" * 60)\n",
        "    print(row['text'][:500])"
      ],
      "metadata": {
        "id": "LEmL21L9Mofp",
        "outputId": "707ffb1a-43f5-470c-88c9-8e0b31d15b9a",
        "colab": {
          "base_uri": "https://localhost:8080/"
        }
      },
      "execution_count": 56,
      "outputs": [
        {
          "output_type": "stream",
          "name": "stdout",
          "text": [
            "\n",
            "Total misclassified: 1\n",
            "\n",
            "Misclassified Email #804\n",
            "True Label: LLM\n",
            "Predicted: Human\n",
            "Confidence (LLM probability): 0.3720\n",
            "\n",
            "Email Text (first 500 characters):\n",
            "------------------------------------------------------------\n",
            "We're inviting you to become a secret shopper and earn extra cash. Visit our website and sign up to start receiving assignments. Your attention to detail and honest feedback will be greatly appreciated!\n"
          ]
        }
      ]
    },
    {
      "cell_type": "markdown",
      "source": [
        "# Random Forest for all emails"
      ],
      "metadata": {
        "id": "B-SeTZn6M1BC"
      }
    },
    {
      "cell_type": "code",
      "source": [
        "# Initialize the random forest\n",
        "rf = RandomForestClassifier(n_estimators=100, random_state=rState, n_jobs=1)\n",
        "\n",
        "# Fit the model\n",
        "rf.fit(X_train_all, y_train_all)\n",
        "\n",
        "# Make pred\n",
        "rf_y_pred = rf.predict(X_test_all)\n",
        "rf_y_prob = rf.predict_proba(X_test_all)[:, 1]"
      ],
      "metadata": {
        "id": "nnWB2OUZMwUQ"
      },
      "execution_count": 57,
      "outputs": []
    },
    {
      "cell_type": "code",
      "source": [
        "# Calculate metrics\n",
        "accuracy_rf = accuracy_score(y_test_all, rf_y_pred)\n",
        "precision_rf = precision_score(y_test_all, rf_y_pred)\n",
        "recall_rf = recall_score(y_test_all, rf_y_pred)\n",
        "f1_rf = f1_score(y_test_all, rf_y_pred)\n",
        "\n",
        "# Print metrics\n",
        "print(f\"\\nAccuracy: {accuracy_rf:.4f}\")\n",
        "print(f\"Precision: {precision_rf:.4f}\")\n",
        "print(f\"Recall: {recall_rf:.4f}\")\n",
        "print(f\"F1 Score: {f1_rf:.4f}\")\n",
        "\n",
        "# Confusion Matrix\n",
        "cm_rf = confusion_matrix(y_test_all, rf_y_pred, normalize=\"true\")\n",
        "\n",
        "plt.figure(figsize=(8, 6))\n",
        "sns.heatmap(cm_rf, annot=True, fmt='.2%', cmap='Greens', cbar=False, xticklabels=labels, yticklabels=labels)\n",
        "plt.xlabel('Predicted Labels')\n",
        "plt.ylabel('True Labels')\n",
        "plt.title('Confusion Matrix - Random Forest (Human vs LLM)')\n",
        "plt.show()\n",
        "\n",
        "# Classification Report\n",
        "print(\"\\n\" + \"-\" * 60)\n",
        "print(' ' * 15 + \"Classification Report\")\n",
        "print(classification_report(y_test_all, rf_y_pred, target_names=labels))\n",
        "\n",
        "def winner(lr_score, rf_score):\n",
        "    if lr_score > rf_score:\n",
        "        return \"Logistic Regression\"\n",
        "    elif rf_score > lr_score:\n",
        "        return \"Random Forest\"\n",
        "    else:\n",
        "      return \"Tie\"\n",
        "\n",
        "# Compare with Logistic Regression\n",
        "print(\"   MODEL COMPARISON\")\n",
        "print(f\"{'Metric':<15} {'Winner'}\")\n",
        "print(\"-\" * 45)\n",
        "print(f\"{'Accuracy':<15} {winner(accuracy, accuracy_rf)}\")\n",
        "print(f\"{'Precision':<15} {winner(precision, precision_rf)}\")\n",
        "print(f\"{'Recall':<15} {winner(recall, recall_rf)}\")\n",
        "print(f\"{'F1 Score':<15} {winner(f1, f1_rf)}\")"
      ],
      "metadata": {
        "id": "uIiksCA-M0Zr",
        "outputId": "4cacebc0-ed76-4588-a7f5-303f22ad871e",
        "colab": {
          "base_uri": "https://localhost:8080/",
          "height": 980
        }
      },
      "execution_count": 60,
      "outputs": [
        {
          "output_type": "stream",
          "name": "stdout",
          "text": [
            "\n",
            "Accuracy: 0.9975\n",
            "Precision: 0.9967\n",
            "Recall: 0.9983\n",
            "F1 Score: 0.9975\n"
          ]
        },
        {
          "output_type": "display_data",
          "data": {
            "text/plain": [
              "<Figure size 800x600 with 1 Axes>"
            ],
            "image/png": "[encoded data removed]"
          },
          "metadata": {}
        },
        {
          "output_type": "stream",
          "name": "stdout",
          "text": [
            "\n",
            "------------------------------------------------------------\n",
            "               Classification Report\n",
            "              precision    recall  f1-score   support\n",
            "\n",
            "       Human       1.00      1.00      1.00       600\n",
            "         LLM       1.00      1.00      1.00       600\n",
            "\n",
            "    accuracy                           1.00      1200\n",
            "   macro avg       1.00      1.00      1.00      1200\n",
            "weighted avg       1.00      1.00      1.00      1200\n",
            "\n",
            "   MODEL COMPARISON\n",
            "Metric          Winner\n",
            "---------------------------------------------\n",
            "Accuracy        Logistic Regression\n",
            "Precision       Logistic Regression\n",
            "Recall          Tie\n",
            "F1 Score        Logistic Regression\n"
          ]
        }
      ]
    }
  ]
}