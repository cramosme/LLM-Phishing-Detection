{
  "nbformat": 4,
  "nbformat_minor": 0,
  "metadata": {
    "colab": {
      "provenance": [],
      "authorship_tag": "ABX9TyM2jKnhHTYqxAyvOGUHzWlp",
      "include_colab_link": true
    },
    "kernelspec": {
      "name": "python3",
      "display_name": "Python 3"
    },
    "language_info": {
      "name": "python"
    }
  },
  "cells": [
    {
      "cell_type": "markdown",
      "metadata": {
        "id": "view-in-github",
        "colab_type": "text"
      },
      "source": [
        "<a href=\"https://colab.research.google.com/github/cramosme/LLM-Phishing-Detection/blob/main/LLM_Phishing_Detection.ipynb\" target=\"_parent\"><img src=\"https://colab.research.google.com/assets/colab-badge.svg\" alt=\"Open In Colab\"/></a>"
      ]
    },
    {
      "cell_type": "code",
      "execution_count": 1,
      "metadata": {
        "id": "DDkJPfEp13Gi",
        "colab": {
          "base_uri": "https://localhost:8080/"
        },
        "outputId": "3945720e-9d0e-4306-92e3-d9eb63d9ae8c"
      },
      "outputs": [
        {
          "output_type": "stream",
          "name": "stdout",
          "text": [
            "Cloning into 'LLM-Phishing-Detection'...\n",
            "remote: Enumerating objects: 34, done.\u001b[K\n",
            "remote: Counting objects: 100% (34/34), done.\u001b[K\n",
            "remote: Compressing objects: 100% (28/28), done.\u001b[K\n",
            "remote: Total 34 (delta 11), reused 18 (delta 5), pack-reused 0 (from 0)\u001b[K\n",
            "Receiving objects: 100% (34/34), 1.16 MiB | 8.67 MiB/s, done.\n",
            "Resolving deltas: 100% (11/11), done.\n",
            "/content/LLM-Phishing-Detection\n",
            "data  LLM_Phishing_Detection.ipynb  README.md\n"
          ]
        }
      ],
      "source": [
        "# Clone git repo, need to run once per session i tink\n",
        "# !git clone https://github.com/cramosme/LLM-Phishing-Detection.git\n",
        "\n",
        "# %cd LLM-Phishing-Detection\n",
        "\n",
        "# !ls"
      ]
    },
    {
      "cell_type": "code",
      "source": [
        "import pandas as pd\n",
        "\n",
        "# Load the CSVs\n",
        "dfLLMPhish = pd.read_csv(f\"/content/LLM-Phishing-Detection/data/llm-generated/phishing-fixed.csv\") # Have to use Fixed version and not original because original didnt quote text correctly so parsing was messed up\n",
        "print(f\"Loaded {len(dfLLMPhish)} emails\")\n",
        "display(dfLLMPhish.info())\n",
        "\n",
        "print(\"\\n\")\n",
        "\n",
        "dfHumanPhish = pd.read_csv(f\"/content/LLM-Phishing-Detection/data/human-generated/phishing.csv\") # Issue only occured with the LLM ones, human generated we can just use the original dataset's files\n",
        "print(f\"Loaded {len(dfHumanPhish)} emails\")\n",
        "display(dfHumanPhish.info())"
      ],
      "metadata": {
        "id": "91QvIEFPIS6s",
        "outputId": "02cddd75-40d0-45d7-bd42-9509d29206ce",
        "colab": {
          "base_uri": "https://localhost:8080/",
          "height": 520
        }
      },
      "execution_count": 2,
      "outputs": [
        {
          "output_type": "stream",
          "name": "stdout",
          "text": [
            "Loaded 1000 emails\n",
            "<class 'pandas.core.frame.DataFrame'>\n",
            "RangeIndex: 1000 entries, 0 to 999\n",
            "Data columns (total 2 columns):\n",
            " #   Column  Non-Null Count  Dtype \n",
            "---  ------  --------------  ----- \n",
            " 0   text    1000 non-null   object\n",
            " 1   label   1000 non-null   int64 \n",
            "dtypes: int64(1), object(1)\n",
            "memory usage: 15.8+ KB\n"
          ]
        },
        {
          "output_type": "display_data",
          "data": {
            "text/plain": [
              "None"
            ]
          },
          "metadata": {}
        },
        {
          "output_type": "stream",
          "name": "stdout",
          "text": [
            "\n",
            "\n",
            "Loaded 1000 emails\n",
            "<class 'pandas.core.frame.DataFrame'>\n",
            "RangeIndex: 1000 entries, 0 to 999\n",
            "Data columns (total 7 columns):\n",
            " #   Column    Non-Null Count  Dtype \n",
            "---  ------    --------------  ----- \n",
            " 0   sender    1000 non-null   object\n",
            " 1   receiver  978 non-null    object\n",
            " 2   date      1000 non-null   object\n",
            " 3   subject   998 non-null    object\n",
            " 4   body      1000 non-null   object\n",
            " 5   urls      1000 non-null   int64 \n",
            " 6   label     1000 non-null   int64 \n",
            "dtypes: int64(2), object(5)\n",
            "memory usage: 54.8+ KB\n"
          ]
        },
        {
          "output_type": "display_data",
          "data": {
            "text/plain": [
              "None"
            ]
          },
          "metadata": {}
        }
      ]
    }
  ]
}